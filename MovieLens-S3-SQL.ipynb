{
 "cells": [
  {
   "cell_type": "code",
   "execution_count": 1,
   "id": "b9b4a8ea",
   "metadata": {},
   "outputs": [
    {
     "name": "stdout",
     "output_type": "stream",
     "text": [
      "Starting Spark application\n"
     ]
    },
    {
     "data": {
      "text/html": [
       "<table>\n",
       "<tr><th>ID</th><th>YARN Application ID</th><th>Kind</th><th>State</th><th>Spark UI</th><th>Driver log</th><th>User</th><th>Current session?</th></tr><tr><td>41</td><td>application_1635142475032_0042</td><td>pyspark</td><td>idle</td><td><a target=\"_blank\" href=\"http://ip-172-31-20-67.us-east-2.compute.internal:20888/proxy/application_1635142475032_0042/\">Link</a></td><td><a target=\"_blank\" href=\"http://ip-172-31-31-96.us-east-2.compute.internal:8042/node/containerlogs/container_1635142475032_0042_01_000001/livy\">Link</a></td><td>None</td><td>✔</td></tr></table>"
      ],
      "text/plain": [
       "<IPython.core.display.HTML object>"
      ]
     },
     "metadata": {},
     "output_type": "display_data"
    },
    {
     "data": {
      "application/vnd.jupyter.widget-view+json": {
       "model_id": "",
       "version_major": 2,
       "version_minor": 0
      },
      "text/plain": [
       "FloatProgress(value=0.0, bar_style='info', description='Progress:', layout=Layout(height='25px', width='50%'),…"
      ]
     },
     "metadata": {},
     "output_type": "display_data"
    },
    {
     "name": "stdout",
     "output_type": "stream",
     "text": [
      "SparkSession available as 'spark'.\n"
     ]
    },
    {
     "data": {
      "application/vnd.jupyter.widget-view+json": {
       "model_id": "",
       "version_major": 2,
       "version_minor": 0
      },
      "text/plain": [
       "FloatProgress(value=0.0, bar_style='info', description='Progress:', layout=Layout(height='25px', width='50%'),…"
      ]
     },
     "metadata": {},
     "output_type": "display_data"
    },
    {
     "name": "stdout",
     "output_type": "stream",
     "text": [
      "+-------+----------------+--------------------+\n",
      "|movieId|           title|              genres|\n",
      "+-------+----------------+--------------------+\n",
      "|      1|Toy Story (1995)|Adventure|Animati...|\n",
      "|      2|  Jumanji (1995)|Adventure|Childre...|\n",
      "+-------+----------------+--------------------+\n",
      "only showing top 2 rows"
     ]
    }
   ],
   "source": [
    "from pyspark.sql.types import StructType, LongType,StringType, IntegerType, DoubleType\n",
    "\n",
    "movieSchema = StructType()\\\n",
    "         .add(\"movieId\", IntegerType(), True)\\\n",
    "         .add(\"title\", StringType(), True)\\\n",
    "         .add(\"genres\", StringType(), True)\\\n",
    "         \n",
    "movieDf = spark.read.format(\"csv\")\\\n",
    "          .option(\"header\", True)\\\n",
    "          .schema(movieSchema)\\\n",
    "          .load(\"s3://gk-movielens2/movies.csv\")\n",
    "\n",
    "movieDf.show(2)"
   ]
  },
  {
   "cell_type": "code",
   "execution_count": 2,
   "id": "8a9b751a",
   "metadata": {},
   "outputs": [
    {
     "data": {
      "application/vnd.jupyter.widget-view+json": {
       "model_id": "",
       "version_major": 2,
       "version_minor": 0
      },
      "text/plain": [
       "FloatProgress(value=0.0, bar_style='info', description='Progress:', layout=Layout(height='25px', width='50%'),…"
      ]
     },
     "metadata": {},
     "output_type": "display_data"
    },
    {
     "name": "stdout",
     "output_type": "stream",
     "text": [
      "+------+-------+------+---------+\n",
      "|userId|movieId|rating|timestamp|\n",
      "+------+-------+------+---------+\n",
      "|     1|      1|   4.0|964982703|\n",
      "|     1|      3|   4.0|964981247|\n",
      "+------+-------+------+---------+\n",
      "only showing top 2 rows"
     ]
    }
   ],
   "source": [
    "ratingSchema = StructType()\\\n",
    "         .add(\"userId\", IntegerType(), True)\\\n",
    "         .add(\"movieId\", IntegerType(), True)\\\n",
    "         .add(\"rating\", DoubleType(), True)\\\n",
    "         .add(\"timestamp\", StringType(), True)\n",
    "\n",
    "\n",
    "ratingDf = spark.read.format(\"csv\")\\\n",
    "          .option(\"header\", True)\\\n",
    "          .schema(ratingSchema)\\\n",
    "          .load(\"s3://gk-movielens2/ratings.csv\")\n",
    "\n",
    "ratingDf.show(2)"
   ]
  },
  {
   "cell_type": "code",
   "execution_count": null,
   "id": "fe210460",
   "metadata": {},
   "outputs": [],
   "source": [
    "# DF - Python\n",
    "# DF - SQL\n",
    "# Spark SQL is core the core engine, the code in Python/R/Java/Scala/SQL data frame code [not RDD code] shall be internally converted \n",
    "# into Spark SQL engine Catalyst \n",
    "# it optimize your sql/execution flow\n",
    "# if we write the code inefficiently for example, sort and then filter, internally spark DF [not RDD] shall optimize your code and flow\n",
    "# it mean, it will rewrite your query plan to fitler first and then sort it.\n",
    "\n",
    "# SPARK SQL, Queries, Database [meta data ] \n"
   ]
  },
  {
   "cell_type": "code",
   "execution_count": 4,
   "id": "95752a3f",
   "metadata": {},
   "outputs": [
    {
     "data": {
      "application/vnd.jupyter.widget-view+json": {
       "model_id": "",
       "version_major": 2,
       "version_minor": 0
      },
      "text/plain": [
       "FloatProgress(value=0.0, bar_style='info', description='Progress:', layout=Layout(height='25px', width='50%'),…"
      ]
     },
     "metadata": {},
     "output_type": "display_data"
    },
    {
     "name": "stdout",
     "output_type": "stream",
     "text": [
      "+-------+\n",
      "|(1 + 1)|\n",
      "+-------+\n",
      "|      2|\n",
      "+-------+\n",
      "\n",
      "+------+\n",
      "|result|\n",
      "+------+\n",
      "|     2|\n",
      "+------+"
     ]
    }
   ],
   "source": [
    "# Run spark SQL statement\n",
    "spark.sql ('SELECT 1 + 1').show()\n",
    "spark.sql ('SELECT 1 + 1 as result').show()"
   ]
  },
  {
   "cell_type": "code",
   "execution_count": 7,
   "id": "96a48d06",
   "metadata": {},
   "outputs": [
    {
     "data": {
      "application/vnd.jupyter.widget-view+json": {
       "model_id": "",
       "version_major": 2,
       "version_minor": 0
      },
      "text/plain": [
       "FloatProgress(value=0.0, bar_style='info', description='Progress:', layout=Layout(height='25px', width='50%'),…"
      ]
     },
     "metadata": {},
     "output_type": "display_data"
    },
    {
     "name": "stdout",
     "output_type": "stream",
     "text": [
      "+--------+---------+-----------+\n",
      "|database|tableName|isTemporary|\n",
      "+--------+---------+-----------+\n",
      "|        |   movies|       true|\n",
      "+--------+---------+-----------+\n",
      "\n",
      "+--------+---------+-----------+\n",
      "|database|tableName|isTemporary|\n",
      "+--------+---------+-----------+\n",
      "|        |   movies|       true|\n",
      "|        |  ratings|       true|\n",
      "+--------+---------+-----------+"
     ]
    }
   ],
   "source": [
    "# SPARK DataBase\n",
    "# Spark Tables/Views types\n",
    "# 1. Global Temp View/Table. Non persisted, in memory data frame [internally it is a dataframe, in depth with in spark, it is DataSet]\n",
    "#     SHARED Across multiple SPARK SESSIONS \n",
    "# 2. Temp View/Table, non persisted, in memory data frame, it is spark single SPARK SESSION\n",
    "# 3. Persisted/permanent table, the data and table are persisted, it will be available when we restart/rerun the spark\n",
    "\n",
    "# behind all spark temp views/table, permanent tables, we have dataframe\n",
    "\n",
    "# 'default' is the default database name\n",
    "spark.sql('SHOW TABLES in default').show()\n",
    "\n",
    "# create temp view from dataframe\n",
    "movieDf.createOrReplaceTempView('movies')\n",
    "ratingDf.createOrReplaceTempView('ratings')\n",
    "\n",
    "\n",
    "# now we can see a table/view called movies\n",
    "spark.sql('SHOW TABLES in default').show()"
   ]
  },
  {
   "cell_type": "code",
   "execution_count": 8,
   "id": "c771edf1",
   "metadata": {},
   "outputs": [
    {
     "data": {
      "application/vnd.jupyter.widget-view+json": {
       "model_id": "",
       "version_major": 2,
       "version_minor": 0
      },
      "text/plain": [
       "FloatProgress(value=0.0, bar_style='info', description='Progress:', layout=Layout(height='25px', width='50%'),…"
      ]
     },
     "metadata": {},
     "output_type": "display_data"
    },
    {
     "name": "stdout",
     "output_type": "stream",
     "text": [
      "root\n",
      " |-- movieId: integer (nullable = true)\n",
      " |-- title: string (nullable = true)\n",
      " |-- genres: string (nullable = true)\n",
      "\n",
      "+-------+----------------+--------------------+\n",
      "|movieId|           title|              genres|\n",
      "+-------+----------------+--------------------+\n",
      "|      1|Toy Story (1995)|Adventure|Animati...|\n",
      "|      2|  Jumanji (1995)|Adventure|Childre...|\n",
      "+-------+----------------+--------------------+\n",
      "only showing top 2 rows"
     ]
    }
   ],
   "source": [
    "# sql returns dataframe, immutable\n",
    "df2 = spark.sql('SELECT * from movies')\n",
    "df2.printSchema()\n",
    "df2.show(2)"
   ]
  },
  {
   "cell_type": "code",
   "execution_count": 10,
   "id": "271897f0",
   "metadata": {},
   "outputs": [
    {
     "data": {
      "application/vnd.jupyter.widget-view+json": {
       "model_id": "",
       "version_major": 2,
       "version_minor": 0
      },
      "text/plain": [
       "FloatProgress(value=0.0, bar_style='info', description='Progress:', layout=Layout(height='25px', width='50%'),…"
      ]
     },
     "metadata": {},
     "output_type": "display_data"
    },
    {
     "name": "stdout",
     "output_type": "stream",
     "text": [
      "+-------+--------------------+\n",
      "|movieId|        upper(title)|\n",
      "+-------+--------------------+\n",
      "|      1|    TOY STORY (1995)|\n",
      "|      2|      JUMANJI (1995)|\n",
      "|      3|GRUMPIER OLD MEN ...|\n",
      "|      4|WAITING TO EXHALE...|\n",
      "|      5|FATHER OF THE BRI...|\n",
      "+-------+--------------------+\n",
      "only showing top 5 rows"
     ]
    }
   ],
   "source": [
    "spark.sql('SELECT movieId, upper(title) from movies').show(5)"
   ]
  },
  {
   "cell_type": "code",
   "execution_count": 11,
   "id": "0b08ac0d",
   "metadata": {},
   "outputs": [
    {
     "data": {
      "application/vnd.jupyter.widget-view+json": {
       "model_id": "",
       "version_major": 2,
       "version_minor": 0
      },
      "text/plain": [
       "FloatProgress(value=0.0, bar_style='info', description='Progress:', layout=Layout(height='25px', width='50%'),…"
      ]
     },
     "metadata": {},
     "output_type": "display_data"
    },
    {
     "name": "stdout",
     "output_type": "stream",
     "text": [
      "+------+-------+------+---------+\n",
      "|userId|movieId|rating|timestamp|\n",
      "+------+-------+------+---------+\n",
      "|     1|    235|   4.0|964980908|\n",
      "|     1|    480|   4.0|964982346|\n",
      "|     1|    349|   4.0|964982563|\n",
      "|     1|      3|   4.0|964981247|\n",
      "|     1|    356|   4.0|964980962|\n",
      "+------+-------+------+---------+\n",
      "only showing top 5 rows"
     ]
    }
   ],
   "source": [
    "spark.sql('SELECT * from ratings WHERE rating >=3 and rating <= 4 ORDER BY rating DESC').show(5)"
   ]
  },
  {
   "cell_type": "code",
   "execution_count": 19,
   "id": "dcb73749",
   "metadata": {},
   "outputs": [
    {
     "data": {
      "application/vnd.jupyter.widget-view+json": {
       "model_id": "",
       "version_major": 2,
       "version_minor": 0
      },
      "text/plain": [
       "FloatProgress(value=0.0, bar_style='info', description='Progress:', layout=Layout(height='25px', width='50%'),…"
      ]
     },
     "metadata": {},
     "output_type": "display_data"
    },
    {
     "name": "stdout",
     "output_type": "stream",
     "text": [
      "DataFrame[]"
     ]
    }
   ],
   "source": [
    "# create a view as CREATE VIEW AS SELECT   STATEMENT\n",
    "# this create a temp view called popular_movies\n",
    "spark.sql(\"\"\"\n",
    "CREATE OR REPLACE TEMP VIEW popular_movies AS\n",
    "SELECT movieId,  avg(rating) as avg_rating, count(userId) as total_ratings FROM ratings    \n",
    "GROUP BY movieId\n",
    "HAVING  avg_rating >= 3 AND total_ratings >= 100\n",
    "ORDER BY total_ratings DESC\n",
    "\"\"\")\n",
    "\n",
    "#most_popular_movies.show(200)\n",
    "\n",
    "# spark.sql(\"select * from joindb.products p INNER JOIN joindb.brands b ON p.brand_id=b.brand_id\").show()\n"
   ]
  },
  {
   "cell_type": "code",
   "execution_count": 20,
   "id": "7b7824b1",
   "metadata": {},
   "outputs": [
    {
     "data": {
      "application/vnd.jupyter.widget-view+json": {
       "model_id": "",
       "version_major": 2,
       "version_minor": 0
      },
      "text/plain": [
       "FloatProgress(value=0.0, bar_style='info', description='Progress:', layout=Layout(height='25px', width='50%'),…"
      ]
     },
     "metadata": {},
     "output_type": "display_data"
    },
    {
     "name": "stdout",
     "output_type": "stream",
     "text": [
      "+--------+--------------+-----------+\n",
      "|database|     tableName|isTemporary|\n",
      "+--------+--------------+-----------+\n",
      "|        |        movies|       true|\n",
      "|        |popular_movies|       true|\n",
      "|        |       ratings|       true|\n",
      "+--------+--------------+-----------+\n",
      "\n",
      "+-------+-----------------+-------------+\n",
      "|movieId|       avg_rating|total_ratings|\n",
      "+-------+-----------------+-------------+\n",
      "|    356|4.164133738601824|          329|\n",
      "|    318|4.429022082018927|          317|\n",
      "|    296|4.197068403908795|          307|\n",
      "|    593|4.161290322580645|          279|\n",
      "|   2571|4.192446043165468|          278|\n",
      "+-------+-----------------+-------------+\n",
      "only showing top 5 rows"
     ]
    }
   ],
   "source": [
    "spark.sql('SHOW TABLES in default').show()\n",
    "# check popular_movies in listing\n",
    "spark.sql(\"SELECT * FROM popular_movies\").show(5)"
   ]
  },
  {
   "cell_type": "code",
   "execution_count": 25,
   "id": "51820afb",
   "metadata": {},
   "outputs": [
    {
     "data": {
      "application/vnd.jupyter.widget-view+json": {
       "model_id": "",
       "version_major": 2,
       "version_minor": 0
      },
      "text/plain": [
       "FloatProgress(value=0.0, bar_style='info', description='Progress:', layout=Layout(height='25px', width='50%'),…"
      ]
     },
     "metadata": {},
     "output_type": "display_data"
    },
    {
     "name": "stdout",
     "output_type": "stream",
     "text": [
      "DataFrame[]"
     ]
    }
   ],
   "source": [
    "spark.sql(\"\"\"\n",
    "CREATE  OR REPLACE TEMP VIEW most_popular_movies AS\n",
    "SELECT pm.movieId, avg_rating, total_ratings, title from popular_movies pm  INNER JOIN movies m ON pm.movieId = m.movieId\n",
    "\"\"\")"
   ]
  },
  {
   "cell_type": "code",
   "execution_count": 26,
   "id": "f22c7753",
   "metadata": {},
   "outputs": [
    {
     "data": {
      "application/vnd.jupyter.widget-view+json": {
       "model_id": "",
       "version_major": 2,
       "version_minor": 0
      },
      "text/plain": [
       "FloatProgress(value=0.0, bar_style='info', description='Progress:', layout=Layout(height='25px', width='50%'),…"
      ]
     },
     "metadata": {},
     "output_type": "display_data"
    },
    {
     "name": "stdout",
     "output_type": "stream",
     "text": [
      "+--------+-------------------+-----------+\n",
      "|database|          tableName|isTemporary|\n",
      "+--------+-------------------+-----------+\n",
      "|        |most_popular_movies|       true|\n",
      "|        |             movies|       true|\n",
      "|        |     popular_movies|       true|\n",
      "|        |            ratings|       true|\n",
      "+--------+-------------------+-----------+"
     ]
    }
   ],
   "source": [
    "# check popular_movies in listing\n",
    "spark.sql(\"SHOW TABLES IN default\").show(5)"
   ]
  },
  {
   "cell_type": "code",
   "execution_count": 27,
   "id": "ee136861",
   "metadata": {},
   "outputs": [
    {
     "data": {
      "application/vnd.jupyter.widget-view+json": {
       "model_id": "",
       "version_major": 2,
       "version_minor": 0
      },
      "text/plain": [
       "FloatProgress(value=0.0, bar_style='info', description='Progress:', layout=Layout(height='25px', width='50%'),…"
      ]
     },
     "metadata": {},
     "output_type": "display_data"
    },
    {
     "name": "stdout",
     "output_type": "stream",
     "text": [
      "+-------+------------------+-------------+--------------------+\n",
      "|movieId|        avg_rating|total_ratings|               title|\n",
      "+-------+------------------+-------------+--------------------+\n",
      "|    356| 4.164133738601824|          329| Forrest Gump (1994)|\n",
      "|    318| 4.429022082018927|          317|Shawshank Redempt...|\n",
      "|    296| 4.197068403908795|          307| Pulp Fiction (1994)|\n",
      "|    593| 4.161290322580645|          279|Silence of the La...|\n",
      "|   2571| 4.192446043165468|          278|  Matrix, The (1999)|\n",
      "|    260| 4.231075697211155|          251|Star Wars: Episod...|\n",
      "|    480|              3.75|          238|Jurassic Park (1993)|\n",
      "|    110| 4.031645569620253|          237|   Braveheart (1995)|\n",
      "|    589| 3.970982142857143|          224|Terminator 2: Jud...|\n",
      "|    527|             4.225|          220|Schindler's List ...|\n",
      "|   2959| 4.272935779816514|          218|   Fight Club (1999)|\n",
      "|      1|3.9209302325581397|          215|    Toy Story (1995)|\n",
      "|   1196|4.2156398104265405|          211|Star Wars: Episod...|\n",
      "|     50| 4.237745098039215|          204|Usual Suspects, T...|\n",
      "|   2858| 4.056372549019608|          204|American Beauty (...|\n",
      "|     47|3.9753694581280787|          203|Seven (a.k.a. Se7...|\n",
      "|    780|3.4455445544554455|          202|Independence Day ...|\n",
      "|    150| 3.845771144278607|          201|    Apollo 13 (1995)|\n",
      "|   1198|            4.2075|          200|Raiders of the Lo...|\n",
      "|   4993| 4.106060606060606|          198|Lord of the Rings...|\n",
      "|   1210| 4.137755102040816|          196|Star Wars: Episod...|\n",
      "|    858|         4.2890625|          192|Godfather, The (1...|\n",
      "|    457|3.9921052631578946|          190|Fugitive, The (1993)|\n",
      "|    592|3.4285714285714284|          189|       Batman (1989)|\n",
      "|   5952|4.0212765957446805|          188|Lord of the Rings...|\n",
      "|   2028|4.1462765957446805|          188|Saving Private Ry...|\n",
      "|   7153| 4.118918918918919|          185|Lord of the Rings...|\n",
      "|    588|3.7923497267759565|          183|      Aladdin (1992)|\n",
      "|    608| 4.116022099447513|          181|        Fargo (1996)|\n",
      "|   2762| 3.893854748603352|          179|Sixth Sense, The ...|\n",
      "|    380| 3.497191011235955|          178|    True Lies (1994)|\n",
      "|     32| 3.983050847457627|          177|Twelve Monkeys (a...|\n",
      "|    364| 3.941860465116279|          172|Lion King, The (1...|\n",
      "|   1270| 4.038011695906433|          171|Back to the Futur...|\n",
      "|    377|3.5292397660818713|          171|        Speed (1994)|\n",
      "|   4306|3.8676470588235294|          170|        Shrek (2001)|\n",
      "|   3578|3.9382352941176473|          170|    Gladiator (2000)|\n",
      "|   1580| 3.487878787878788|          165|Men in Black (a.k...|\n",
      "|    590|3.8353658536585367|          164|Dances with Wolve...|\n",
      "|    648| 3.537037037037037|          162|Mission: Impossib...|\n",
      "|    344| 3.040372670807453|          161|Ace Ventura: Pet ...|\n",
      "|   4226| 4.122641509433962|          159|      Memento (2000)|\n",
      "|    367|3.1847133757961785|          157|    Mask, The (1994)|\n",
      "|  58559| 4.238255033557047|          149|Dark Knight, The ...|\n",
      "|   6539| 3.778523489932886|          149|Pirates of the Ca...|\n",
      "|   1214| 3.969178082191781|          146|        Alien (1979)|\n",
      "|    595|3.7705479452054793|          146|Beauty and the Be...|\n",
      "|   1036|3.8620689655172415|          145|     Die Hard (1988)|\n",
      "|    500| 3.388888888888889|          144|Mrs. Doubtfire (1...|\n",
      "|    165|3.5555555555555554|          144|Die Hard: With a ...|\n",
      "|   1265| 3.944055944055944|          143|Groundhog Day (1993)|\n",
      "|  79132| 4.066433566433567|          143|    Inception (2010)|\n",
      "|   1197| 4.232394366197183|          142|Princess Bride, T...|\n",
      "|   1704| 4.078014184397163|          141|Good Will Hunting...|\n",
      "|   6377|3.9609929078014185|          141| Finding Nemo (2003)|\n",
      "|   1721| 3.414285714285714|          140|      Titanic (1997)|\n",
      "|   1291| 4.046428571428572|          140|Indiana Jones and...|\n",
      "|   2628| 3.107142857142857|          140|Star Wars: Episod...|\n",
      "|    316|             3.375|          140|     Stargate (1994)|\n",
      "|   1136| 4.161764705882353|          136|Monty Python and ...|\n",
      "|    597|3.4851851851851854|          135| Pretty Woman (1990)|\n",
      "|   3793| 3.699248120300752|          133|        X-Men (2000)|\n",
      "|    231|3.0601503759398496|          133|Dumb & Dumber (Du...|\n",
      "|    293| 4.018796992481203|          133|Léon: The Profess...|\n",
      "|   1193| 4.203007518796992|          133|One Flew Over the...|\n",
      "|     10| 3.496212121212121|          132|    GoldenEye (1995)|\n",
      "|   4886| 3.871212121212121|          132|Monsters, Inc. (2...|\n",
      "|   7361|4.1603053435114505|          131|Eternal Sunshine ...|\n",
      "|   1089| 4.202290076335878|          131|Reservoir Dogs (1...|\n",
      "|   1240|3.8969465648854964|          131|Terminator, The (...|\n",
      "|   6874|3.9618320610687023|          131|Kill Bill: Vol. 1...|\n",
      "|   2329| 4.217054263565892|          129|American History ...|\n",
      "|   1221|  4.25968992248062|          129|Godfather: Part I...|\n",
      "|     34|        3.65234375|          128|         Babe (1995)|\n",
      "|   1200|3.9642857142857144|          126|       Aliens (1986)|\n",
      "|   1213|              4.25|          126|   Goodfellas (1990)|\n",
      "|   8961|             3.836|          125|Incredibles, The ...|\n",
      "|   1682|             3.812|          125|Truman Show, The ...|\n",
      "|    541| 4.100806451612903|          124| Blade Runner (1982)|\n",
      "|   4995|               4.0|          123|Beautiful Mind, A...|\n",
      "|    736| 3.321138211382114|          123|      Twister (1996)|\n",
      "|   5349| 3.540983606557377|          122|   Spider-Man (2002)|\n",
      "|   1097|3.7663934426229506|          122|E.T. the Extra-Te...|\n",
      "|   2683|3.1983471074380163|          121|Austin Powers: Th...|\n",
      "|    733|3.6404958677685952|          121|    Rock, The (1996)|\n",
      "|   1206| 3.995833333333333|          120|Clockwork Orange,...|\n",
      "|   4973| 4.183333333333334|          120|Amelie (Fabuleux ...|\n",
      "|   5445|            3.6375|          120|Minority Report (...|\n",
      "|   2716|             3.775|          120|Ghostbusters (a.k...|\n",
      "|   1073|3.8739495798319328|          119|Willy Wonka & the...|\n",
      "|   4963|3.8445378151260505|          119|Ocean's Eleven (2...|\n",
      "|  33794|3.8620689655172415|          116|Batman Begins (2005)|\n",
      "|   1527|3.7456896551724137|          116|Fifth Element, Th...|\n",
      "|    587|3.4347826086956523|          115|        Ghost (1990)|\n",
      "|   5989|3.9217391304347826|          115|Catch Me If You C...|\n",
      "|   1968|3.7787610619469025|          113|Breakfast Club, T...|\n",
      "|    185|3.0401785714285716|          112|     Net, The (1995)|\n",
      "|   5418|3.8169642857142856|          112|Bourne Identity, ...|\n",
      "|   3147| 4.148648648648648|          111|Green Mile, The (...|\n",
      "|   3996|3.8363636363636364|          110|Crouching Tiger, ...|\n",
      "+-------+------------------+-------------+--------------------+\n",
      "only showing top 100 rows"
     ]
    }
   ],
   "source": [
    "spark.sql(\"select * FROM most_popular_movies\").show(100)"
   ]
  },
  {
   "cell_type": "code",
   "execution_count": null,
   "id": "cc75b177",
   "metadata": {},
   "outputs": [],
   "source": []
  }
 ],
 "metadata": {
  "kernelspec": {
   "display_name": "Sparkmagic (PySpark)",
   "language": "python",
   "name": "pysparkkernel"
  },
  "language_info": {
   "codemirror_mode": {
    "name": "python",
    "version": 3
   },
   "file_extension": ".py",
   "mimetype": "text/x-python",
   "name": "pyspark",
   "pygments_lexer": "python3"
  }
 },
 "nbformat": 4,
 "nbformat_minor": 5
}
