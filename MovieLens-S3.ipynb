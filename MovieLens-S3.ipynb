{
 "cells": [
  {
   "cell_type": "code",
   "execution_count": 5,
   "id": "25f7ab97",
   "metadata": {},
   "outputs": [
    {
     "data": {
      "application/vnd.jupyter.widget-view+json": {
       "model_id": "",
       "version_major": 2,
       "version_minor": 0
      },
      "text/plain": [
       "FloatProgress(value=0.0, bar_style='info', description='Progress:', layout=Layout(height='25px', width='50%'),…"
      ]
     },
     "metadata": {},
     "output_type": "display_data"
    },
    {
     "name": "stdout",
     "output_type": "stream",
     "text": [
      "+-------+----------------+--------------------+\n",
      "|movieId|           title|              genres|\n",
      "+-------+----------------+--------------------+\n",
      "|      1|Toy Story (1995)|Adventure|Animati...|\n",
      "|      2|  Jumanji (1995)|Adventure|Childre...|\n",
      "+-------+----------------+--------------------+\n",
      "only showing top 2 rows"
     ]
    }
   ],
   "source": [
    "from pyspark.sql.types import StructType, LongType,StringType, IntegerType, DoubleType\n",
    "\n",
    "movieSchema = StructType()\\\n",
    "         .add(\"movieId\", IntegerType(), True)\\\n",
    "         .add(\"title\", StringType(), True)\\\n",
    "         .add(\"genres\", StringType(), True)\\\n",
    "         \n",
    "movieDf = spark.read.format(\"csv\")\\\n",
    "          .option(\"header\", True)\\\n",
    "          .schema(movieSchema)\\\n",
    "          .load(\"s3://gk-movielens2/movies.csv\")\n",
    "\n",
    "movieDf.show(2)"
   ]
  },
  {
   "cell_type": "code",
   "execution_count": 6,
   "id": "8ef32222",
   "metadata": {},
   "outputs": [
    {
     "data": {
      "application/vnd.jupyter.widget-view+json": {
       "model_id": "",
       "version_major": 2,
       "version_minor": 0
      },
      "text/plain": [
       "FloatProgress(value=0.0, bar_style='info', description='Progress:', layout=Layout(height='25px', width='50%'),…"
      ]
     },
     "metadata": {},
     "output_type": "display_data"
    },
    {
     "name": "stdout",
     "output_type": "stream",
     "text": [
      "+------+-------+------+---------+\n",
      "|userId|movieId|rating|timestamp|\n",
      "+------+-------+------+---------+\n",
      "|     1|      1|   4.0|964982703|\n",
      "|     1|      3|   4.0|964981247|\n",
      "+------+-------+------+---------+\n",
      "only showing top 2 rows"
     ]
    }
   ],
   "source": [
    "ratingSchema = StructType()\\\n",
    "         .add(\"userId\", IntegerType(), True)\\\n",
    "         .add(\"movieId\", IntegerType(), True)\\\n",
    "         .add(\"rating\", DoubleType(), True)\\\n",
    "         .add(\"timestamp\", StringType(), True)\n",
    "\n",
    "\n",
    "ratingDf = spark.read.format(\"csv\")\\\n",
    "          .option(\"header\", True)\\\n",
    "          .schema(ratingSchema)\\\n",
    "          .load(\"s3://gk-movielens2/ratings.csv\")\n",
    "\n",
    "ratingDf.show(2)"
   ]
  },
  {
   "cell_type": "code",
   "execution_count": 7,
   "id": "ac4013a7",
   "metadata": {},
   "outputs": [
    {
     "data": {
      "application/vnd.jupyter.widget-view+json": {
       "model_id": "",
       "version_major": 2,
       "version_minor": 0
      },
      "text/plain": [
       "FloatProgress(value=0.0, bar_style='info', description='Progress:', layout=Layout(height='25px', width='50%'),…"
      ]
     },
     "metadata": {},
     "output_type": "display_data"
    },
    {
     "name": "stdout",
     "output_type": "stream",
     "text": [
      "+-------+------+\n",
      "|movieId|rating|\n",
      "+-------+------+\n",
      "|      1|   4.0|\n",
      "|      3|   4.0|\n",
      "+-------+------+\n",
      "only showing top 2 rows"
     ]
    }
   ],
   "source": [
    "# out of all 4 columns, we pick below 2 columns\n",
    "df2 = ratingDf.select(\"movieId\", \"rating\")\n",
    "df2.show(2)"
   ]
  },
  {
   "cell_type": "code",
   "execution_count": 8,
   "id": "8ef95b73",
   "metadata": {},
   "outputs": [
    {
     "data": {
      "application/vnd.jupyter.widget-view+json": {
       "model_id": "",
       "version_major": 2,
       "version_minor": 0
      },
      "text/plain": [
       "FloatProgress(value=0.0, bar_style='info', description='Progress:', layout=Layout(height='25px', width='50%'),…"
      ]
     },
     "metadata": {},
     "output_type": "display_data"
    },
    {
     "name": "stdout",
     "output_type": "stream",
     "text": [
      "('Count ', 100836)"
     ]
    }
   ],
   "source": [
    "# count\n",
    "\n",
    "print(\"Count \", ratingDf.count())"
   ]
  },
  {
   "cell_type": "code",
   "execution_count": 9,
   "id": "7fecf3ae",
   "metadata": {},
   "outputs": [
    {
     "data": {
      "application/vnd.jupyter.widget-view+json": {
       "model_id": "",
       "version_major": 2,
       "version_minor": 0
      },
      "text/plain": [
       "FloatProgress(value=0.0, bar_style='info', description='Progress:', layout=Layout(height='25px', width='50%'),…"
      ]
     },
     "metadata": {},
     "output_type": "display_data"
    },
    {
     "name": "stdout",
     "output_type": "stream",
     "text": [
      "('Columns', ['userId', 'movieId', 'rating', 'timestamp'])\n",
      "StructType(List(StructField(userId,IntegerType,true),StructField(movieId,IntegerType,true),StructField(rating,DoubleType,true),StructField(timestamp,StringType,true)))"
     ]
    }
   ],
   "source": [
    "# to get all columns\n",
    "print(\"Columns\", ratingDf.columns)\n",
    "# schema\n",
    "print(ratingDf.schema)"
   ]
  },
  {
   "cell_type": "code",
   "execution_count": 10,
   "id": "f82b5980",
   "metadata": {},
   "outputs": [
    {
     "data": {
      "application/vnd.jupyter.widget-view+json": {
       "model_id": "",
       "version_major": 2,
       "version_minor": 0
      },
      "text/plain": [
       "FloatProgress(value=0.0, bar_style='info', description='Progress:', layout=Layout(height='25px', width='50%'),…"
      ]
     },
     "metadata": {},
     "output_type": "display_data"
    },
    {
     "name": "stdout",
     "output_type": "stream",
     "text": [
      "[Row(movieId=1, title=u'Toy Story (1995)', genres=u'Adventure|Animation|Children|Comedy|Fantasy'), Row(movieId=2, title=u'Jumanji (1995)', genres=u'Adventure|Children|Fantasy')]"
     ]
    }
   ],
   "source": [
    "\n",
    "movieDf.take(2)"
   ]
  },
  {
   "cell_type": "code",
   "execution_count": 11,
   "id": "ca6be4e2",
   "metadata": {},
   "outputs": [
    {
     "data": {
      "application/vnd.jupyter.widget-view+json": {
       "model_id": "",
       "version_major": 2,
       "version_minor": 0
      },
      "text/plain": [
       "FloatProgress(value=0.0, bar_style='info', description='Progress:', layout=Layout(height='25px', width='50%'),…"
      ]
     },
     "metadata": {},
     "output_type": "display_data"
    },
    {
     "name": "stdout",
     "output_type": "stream",
     "text": [
      "+------+-------+------+---------+---------------+\n",
      "|userId|movieId|rating|timestamp|rating_adjusted|\n",
      "+------+-------+------+---------+---------------+\n",
      "|     1|      1|   4.0|964982703|            4.2|\n",
      "+------+-------+------+---------+---------------+\n",
      "only showing top 1 row"
     ]
    }
   ],
   "source": [
    "# add new columns/drive new columns from existing data\n",
    "df3 = ratingDf.withColumn(\"rating_adjusted\", ratingDf.rating + .2  )\n",
    "df3.show(1)"
   ]
  },
  {
   "cell_type": "code",
   "execution_count": 12,
   "id": "a808ddd1",
   "metadata": {},
   "outputs": [
    {
     "data": {
      "application/vnd.jupyter.widget-view+json": {
       "model_id": "",
       "version_major": 2,
       "version_minor": 0
      },
      "text/plain": [
       "FloatProgress(value=0.0, bar_style='info', description='Progress:', layout=Layout(height='25px', width='50%'),…"
      ]
     },
     "metadata": {},
     "output_type": "display_data"
    },
    {
     "name": "stdout",
     "output_type": "stream",
     "text": [
      "+------+-------+-------+---------+\n",
      "|userId|movieId|ratings|timestamp|\n",
      "+------+-------+-------+---------+\n",
      "|     1|      1|    4.0|964982703|\n",
      "+------+-------+-------+---------+\n",
      "only showing top 1 row"
     ]
    }
   ],
   "source": [
    "# rename the column in the df\n",
    "# existing col, new column, create new data frame\n",
    "df2 = ratingDf.withColumnRenamed(\"rating\", \"ratings\")\n",
    "df2.show(1)"
   ]
  },
  {
   "cell_type": "code",
   "execution_count": 14,
   "id": "10ba2a46",
   "metadata": {},
   "outputs": [
    {
     "data": {
      "application/vnd.jupyter.widget-view+json": {
       "model_id": "",
       "version_major": 2,
       "version_minor": 0
      },
      "text/plain": [
       "FloatProgress(value=0.0, bar_style='info', description='Progress:', layout=Layout(height='25px', width='50%'),…"
      ]
     },
     "metadata": {},
     "output_type": "display_data"
    },
    {
     "name": "stdout",
     "output_type": "stream",
     "text": [
      "+------+-------+------+---------+\n",
      "|userId|movieId|rating|timestamp|\n",
      "+------+-------+------+---------+\n",
      "|     1|      1|   4.0|964982703|\n",
      "+------+-------+------+---------+\n",
      "only showing top 1 row\n",
      "\n",
      "+-------+------+\n",
      "|movieId|rating|\n",
      "+-------+------+\n",
      "|      1|   4.0|\n",
      "+-------+------+\n",
      "only showing top 1 row\n",
      "\n",
      "+------+---------------+\n",
      "|userId|rating_adjusted|\n",
      "+------+---------------+\n",
      "|     1|            4.2|\n",
      "+------+---------------+\n",
      "only showing top 1 row"
     ]
    }
   ],
   "source": [
    "# select variance\n",
    "# select all columns\n",
    "df2 = ratingDf.select(\"*\")\n",
    "df2.show(1)\n",
    "df2 = ratingDf.select(\"movieId\", \"rating\")\n",
    "df2.show(1)\n",
    "# use .alias to give a name\n",
    "df2 = ratingDf.select(ratingDf.userId, \n",
    "                     (ratingDf.rating + 0.2).alias(\"rating_adjusted\") )\n",
    "df2.show(1)"
   ]
  },
  {
   "cell_type": "code",
   "execution_count": 15,
   "id": "a4360429",
   "metadata": {},
   "outputs": [
    {
     "data": {
      "application/vnd.jupyter.widget-view+json": {
       "model_id": "",
       "version_major": 2,
       "version_minor": 0
      },
      "text/plain": [
       "FloatProgress(value=0.0, bar_style='info', description='Progress:', layout=Layout(height='25px', width='50%'),…"
      ]
     },
     "metadata": {},
     "output_type": "display_data"
    },
    {
     "name": "stdout",
     "output_type": "stream",
     "text": [
      "+------+-------+------+---------+\n",
      "|userId|movieId|rating|timestamp|\n",
      "+------+-------+------+---------+\n",
      "|     1|     47|   5.0|964983815|\n",
      "|     1|     50|   5.0|964982931|\n",
      "|     1|    101|   5.0|964980868|\n",
      "+------+-------+------+---------+\n",
      "only showing top 3 rows\n",
      "\n",
      "+------+-------+------+---------+\n",
      "|userId|movieId|rating|timestamp|\n",
      "+------+-------+------+---------+\n",
      "|     1|     47|   5.0|964983815|\n",
      "|     1|     50|   5.0|964982931|\n",
      "|     1|    101|   5.0|964980868|\n",
      "+------+-------+------+---------+\n",
      "only showing top 3 rows"
     ]
    }
   ],
   "source": [
    "# filter, apply predicates/conditions\n",
    "# filter, where functions. where is an alias of filter, both are same\n",
    "df2 = ratingDf.filter(ratingDf.rating > 4)\n",
    "df2.show(3)\n",
    "\n",
    "df2 = ratingDf.where(ratingDf.rating > 4)\n",
    "df2.show(3)"
   ]
  },
  {
   "cell_type": "code",
   "execution_count": 16,
   "id": "78923d8e",
   "metadata": {},
   "outputs": [
    {
     "data": {
      "application/vnd.jupyter.widget-view+json": {
       "model_id": "",
       "version_major": 2,
       "version_minor": 0
      },
      "text/plain": [
       "FloatProgress(value=0.0, bar_style='info', description='Progress:', layout=Layout(height='25px', width='50%'),…"
      ]
     },
     "metadata": {},
     "output_type": "display_data"
    },
    {
     "name": "stdout",
     "output_type": "stream",
     "text": [
      "+------+-------+------+---------+\n",
      "|userId|movieId|rating|timestamp|\n",
      "+------+-------+------+---------+\n",
      "|     1|      1|   4.0|964982703|\n",
      "|     1|      3|   4.0|964981247|\n",
      "|     1|      6|   4.0|964982224|\n",
      "|     1|     70|   3.0|964982400|\n",
      "+------+-------+------+---------+\n",
      "only showing top 4 rows"
     ]
    }
   ],
   "source": [
    "# multiple conditions\n",
    "df2 = ratingDf.filter( (ratingDf.rating >=3) & (ratingDf.rating <=4))\n",
    "df2.show(4)"
   ]
  },
  {
   "cell_type": "code",
   "execution_count": 17,
   "id": "77347480",
   "metadata": {},
   "outputs": [
    {
     "data": {
      "application/vnd.jupyter.widget-view+json": {
       "model_id": "",
       "version_major": 2,
       "version_minor": 0
      },
      "text/plain": [
       "FloatProgress(value=0.0, bar_style='info', description='Progress:', layout=Layout(height='25px', width='50%'),…"
      ]
     },
     "metadata": {},
     "output_type": "display_data"
    },
    {
     "name": "stdout",
     "output_type": "stream",
     "text": [
      "+------+-------+------+---------+\n",
      "|userId|movieId|rating|timestamp|\n",
      "+------+-------+------+---------+\n",
      "|     1|      1|   4.0|964982703|\n",
      "|     1|      3|   4.0|964981247|\n",
      "|     1|      6|   4.0|964982224|\n",
      "|     1|     70|   3.0|964982400|\n",
      "+------+-------+------+---------+\n",
      "only showing top 4 rows"
     ]
    }
   ],
   "source": [
    "# Spark SQL and condition\n",
    "df2 = ratingDf.filter( \"rating >= 3 AND rating <= 4\" )\n",
    "df2.show(4)"
   ]
  },
  {
   "cell_type": "code",
   "execution_count": 21,
   "id": "f2cee104",
   "metadata": {},
   "outputs": [
    {
     "data": {
      "application/vnd.jupyter.widget-view+json": {
       "model_id": "",
       "version_major": 2,
       "version_minor": 0
      },
      "text/plain": [
       "FloatProgress(value=0.0, bar_style='info', description='Progress:', layout=Layout(height='25px', width='50%'),…"
      ]
     },
     "metadata": {},
     "output_type": "display_data"
    },
    {
     "name": "stdout",
     "output_type": "stream",
     "text": [
      "+------+-------+------+---------+\n",
      "|userId|movieId|rating|timestamp|\n",
      "+------+-------+------+---------+\n",
      "|     1|      1|   4.0|964982703|\n",
      "|     1|      3|   4.0|964981247|\n",
      "|     1|      6|   4.0|964982224|\n",
      "|     1|     47|   5.0|964983815|\n",
      "+------+-------+------+---------+\n",
      "only showing top 4 rows\n",
      "\n",
      "(Column<rating>, Column<rating>)"
     ]
    }
   ],
   "source": [
    "# Won't work\n",
    "#ratingDf.filter( \"rating\"  >=3).show(4)\n",
    "\n",
    "from pyspark.sql.functions import col\n",
    "ratingDf.filter( col(\"rating\") >=3).show(4)\n",
    "\n",
    "print(ratingDf.rating, col(\"rating\")) # both are same, Column type"
   ]
  },
  {
   "cell_type": "code",
   "execution_count": 22,
   "id": "c30985db",
   "metadata": {},
   "outputs": [
    {
     "data": {
      "application/vnd.jupyter.widget-view+json": {
       "model_id": "",
       "version_major": 2,
       "version_minor": 0
      },
      "text/plain": [
       "FloatProgress(value=0.0, bar_style='info', description='Progress:', layout=Layout(height='25px', width='50%'),…"
      ]
     },
     "metadata": {},
     "output_type": "display_data"
    },
    {
     "name": "stdout",
     "output_type": "stream",
     "text": [
      "+------+-------+------+----------+\n",
      "|userId|movieId|rating| timestamp|\n",
      "+------+-------+------+----------+\n",
      "|     3|     31|   0.5|1306463578|\n",
      "|     3|    914|   0.5|1306463567|\n",
      "|     3|    527|   0.5|1306464275|\n",
      "|     3|    688|   0.5|1306464228|\n",
      "|     3|    720|   0.5|1306463595|\n",
      "+------+-------+------+----------+\n",
      "only showing top 5 rows\n",
      "\n",
      "+------+-------+------+----------+\n",
      "|userId|movieId|rating| timestamp|\n",
      "+------+-------+------+----------+\n",
      "|     3|     31|   0.5|1306463578|\n",
      "|     3|    914|   0.5|1306463567|\n",
      "|     3|    527|   0.5|1306464275|\n",
      "|     3|    688|   0.5|1306464228|\n",
      "|     3|    720|   0.5|1306463595|\n",
      "+------+-------+------+----------+\n",
      "only showing top 5 rows\n",
      "\n",
      "+------+-------+------+---------+\n",
      "|userId|movieId|rating|timestamp|\n",
      "+------+-------+------+---------+\n",
      "|     1|    101|   5.0|964980868|\n",
      "|     1|    216|   5.0|964981208|\n",
      "|     1|    151|   5.0|964984041|\n",
      "|     1|    157|   5.0|964984100|\n",
      "|     1|     47|   5.0|964983815|\n",
      "+------+-------+------+---------+\n",
      "only showing top 5 rows"
     ]
    }
   ],
   "source": [
    "from pyspark.sql.functions import col, asc, desc\n",
    "# sort data by ascending order/ default\n",
    "df2 = ratingDf.sort(\"rating\")\n",
    "df2.show(5)\n",
    "# sort data by ascending by explitly\n",
    "df2 = ratingDf.sort(asc(\"rating\"))\n",
    "df2.show(5)\n",
    "# sort data by descending order\n",
    "df2 = ratingDf.sort(desc(\"rating\"))\n",
    "df2.show(5)"
   ]
  },
  {
   "cell_type": "code",
   "execution_count": 28,
   "id": "92b8b73f",
   "metadata": {},
   "outputs": [
    {
     "data": {
      "application/vnd.jupyter.widget-view+json": {
       "model_id": "",
       "version_major": 2,
       "version_minor": 0
      },
      "text/plain": [
       "FloatProgress(value=0.0, bar_style='info', description='Progress:', layout=Layout(height='25px', width='50%'),…"
      ]
     },
     "metadata": {},
     "output_type": "display_data"
    },
    {
     "name": "stdout",
     "output_type": "stream",
     "text": [
      "+-------+-------------+\n",
      "|movieId|total_ratings|\n",
      "+-------+-------------+\n",
      "|    356|          329|\n",
      "|    318|          317|\n",
      "|    296|          307|\n",
      "|    593|          279|\n",
      "|   2571|          278|\n",
      "|    260|          251|\n",
      "|    480|          238|\n",
      "|    110|          237|\n",
      "|    589|          224|\n",
      "|    527|          220|\n",
      "|   2959|          218|\n",
      "|      1|          215|\n",
      "|   1196|          211|\n",
      "|     50|          204|\n",
      "|   2858|          204|\n",
      "|     47|          203|\n",
      "|    780|          202|\n",
      "|    150|          201|\n",
      "|   1198|          200|\n",
      "|   4993|          198|\n",
      "|   1210|          196|\n",
      "|    858|          192|\n",
      "|    457|          190|\n",
      "|    592|          189|\n",
      "|   5952|          188|\n",
      "|   2028|          188|\n",
      "|   7153|          185|\n",
      "|    588|          183|\n",
      "|    608|          181|\n",
      "|   2762|          179|\n",
      "|    380|          178|\n",
      "|     32|          177|\n",
      "|    364|          172|\n",
      "|   1270|          171|\n",
      "|    377|          171|\n",
      "|   4306|          170|\n",
      "|   3578|          170|\n",
      "|   1580|          165|\n",
      "|    590|          164|\n",
      "|    648|          162|\n",
      "|    344|          161|\n",
      "|   4226|          159|\n",
      "|    367|          157|\n",
      "|   6539|          149|\n",
      "|  58559|          149|\n",
      "|   1214|          146|\n",
      "|    595|          146|\n",
      "|   1036|          145|\n",
      "|    500|          144|\n",
      "|    165|          144|\n",
      "|  79132|          143|\n",
      "|   1265|          143|\n",
      "|   1197|          142|\n",
      "|   1704|          141|\n",
      "|   6377|          141|\n",
      "|   1721|          140|\n",
      "|   2628|          140|\n",
      "|   1291|          140|\n",
      "|    316|          140|\n",
      "|    153|          137|\n",
      "|   1136|          136|\n",
      "|    597|          135|\n",
      "|   3793|          133|\n",
      "|    231|          133|\n",
      "|    293|          133|\n",
      "|   1193|          133|\n",
      "|     10|          132|\n",
      "|   4886|          132|\n",
      "|   6874|          131|\n",
      "|   1089|          131|\n",
      "|   7361|          131|\n",
      "|   1240|          131|\n",
      "|   1221|          129|\n",
      "|   2329|          129|\n",
      "|     34|          128|\n",
      "|   1213|          126|\n",
      "|   1200|          126|\n",
      "|   1682|          125|\n",
      "|   8961|          125|\n",
      "|    541|          124|\n",
      "|   4995|          123|\n",
      "|    736|          123|\n",
      "|   5349|          122|\n",
      "|   1097|          122|\n",
      "|    733|          121|\n",
      "|   2683|          121|\n",
      "|   4973|          120|\n",
      "|   5445|          120|\n",
      "|   1206|          120|\n",
      "|   2716|          120|\n",
      "|   4963|          119|\n",
      "|   1073|          119|\n",
      "|   1527|          116|\n",
      "|  33794|          116|\n",
      "|    586|          116|\n",
      "|   5989|          115|\n",
      "|    208|          115|\n",
      "|    587|          115|\n",
      "|   1968|          113|\n",
      "|    185|          112|\n",
      "|   5418|          112|\n",
      "|   3147|          111|\n",
      "|   7438|          110|\n",
      "|   3996|          110|\n",
      "|    349|          110|\n",
      "|      2|          110|\n",
      "|   2918|          109|\n",
      "|    924|          109|\n",
      "|   4878|          109|\n",
      "|   1258|          109|\n",
      "|    253|          109|\n",
      "|    329|          108|\n",
      "|   2115|          108|\n",
      "|   4896|          107|\n",
      "|   1208|          107|\n",
      "|  48516|          107|\n",
      "|    539|          106|\n",
      "|   1732|          106|\n",
      "|  68954|          105|\n",
      "|   1923|          105|\n",
      "|    111|          104|\n",
      "|     39|          104|\n",
      "|    223|          104|\n",
      "|  60069|          104|\n",
      "|    357|          103|\n",
      "|   2706|          103|\n",
      "|    161|          103|\n",
      "|    778|          102|\n",
      "|      6|          102|\n",
      "|   5816|          102|\n",
      "|   1222|          102|\n",
      "|    434|          101|\n",
      "|    292|          101|\n",
      "|    454|          101|\n",
      "|    912|          100|\n",
      "|   4022|          100|\n",
      "|   1517|          100|\n",
      "|  44191|          100|\n",
      "+-------+-------------+"
     ]
    }
   ],
   "source": [
    "# aggregation count\n",
    "from pyspark.sql.functions import col, desc, avg, count\n",
    "# count, groupBy\n",
    "# a movie, rated by more users, dones't count avg rating\n",
    "# filter, ensure that total_ratings >= 100 users\n",
    "mostPopularDf = ratingDf\\\n",
    "                .groupBy(\"movieId\")\\\n",
    "                .agg(count(\"userId\"))\\\n",
    "                .withColumnRenamed(\"count(userId)\", \"total_ratings\")\\\n",
    "                .filter(col(\"total_ratings\") >= 100)\\\n",
    "                .sort(desc(\"total_ratings\"))\n",
    "                \n",
    "\n",
    "mostPopularDf.show(200)"
   ]
  },
  {
   "cell_type": "code",
   "execution_count": 31,
   "id": "6c77e339",
   "metadata": {},
   "outputs": [
    {
     "data": {
      "application/vnd.jupyter.widget-view+json": {
       "model_id": "",
       "version_major": 2,
       "version_minor": 0
      },
      "text/plain": [
       "FloatProgress(value=0.0, bar_style='info', description='Progress:', layout=Layout(height='25px', width='50%'),…"
      ]
     },
     "metadata": {},
     "output_type": "display_data"
    },
    {
     "name": "stdout",
     "output_type": "stream",
     "text": [
      "+-------+--------------------+-------------+\n",
      "|movieId|               title|total_ratings|\n",
      "+-------+--------------------+-------------+\n",
      "|    356| Forrest Gump (1994)|          329|\n",
      "|    318|Shawshank Redempt...|          317|\n",
      "|    296| Pulp Fiction (1994)|          307|\n",
      "|    593|Silence of the La...|          279|\n",
      "|   2571|  Matrix, The (1999)|          278|\n",
      "+-------+--------------------+-------------+\n",
      "only showing top 5 rows"
     ]
    }
   ],
   "source": [
    "# join mostPopularmovie with movieDf, to get the title of the movie\n",
    "mostPopularMoviesDf = mostPopularDf\\\n",
    "                      .join(movieDf, \n",
    "                            movieDf.movieId == mostPopularDf.movieId)\\\n",
    "                      .select(mostPopularDf.movieId, \"title\", \"total_ratings\")\n",
    "\n",
    "\n",
    "\n",
    "mostPopularMoviesDf.show(5)"
   ]
  },
  {
   "cell_type": "code",
   "execution_count": 32,
   "id": "c618dc56",
   "metadata": {},
   "outputs": [
    {
     "data": {
      "application/vnd.jupyter.widget-view+json": {
       "model_id": "",
       "version_major": 2,
       "version_minor": 0
      },
      "text/plain": [
       "FloatProgress(value=0.0, bar_style='info', description='Progress:', layout=Layout(height='25px', width='50%'),…"
      ]
     },
     "metadata": {},
     "output_type": "display_data"
    },
    {
     "name": "stdout",
     "output_type": "stream",
     "text": [
      "+-------+-------------+------------------+\n",
      "|movieId|total_ratings|        avg_rating|\n",
      "+-------+-------------+------------------+\n",
      "|    356|          329| 4.164133738601824|\n",
      "|    318|          317| 4.429022082018927|\n",
      "|    296|          307| 4.197068403908795|\n",
      "|    593|          279| 4.161290322580645|\n",
      "|   2571|          278| 4.192446043165468|\n",
      "|    260|          251| 4.231075697211155|\n",
      "|    480|          238|              3.75|\n",
      "|    110|          237| 4.031645569620253|\n",
      "|    589|          224| 3.970982142857143|\n",
      "|    527|          220|             4.225|\n",
      "|   2959|          218| 4.272935779816514|\n",
      "|      1|          215|3.9209302325581397|\n",
      "|   1196|          211|4.2156398104265405|\n",
      "|     50|          204| 4.237745098039215|\n",
      "|   2858|          204| 4.056372549019608|\n",
      "|     47|          203|3.9753694581280787|\n",
      "|    780|          202|3.4455445544554455|\n",
      "|    150|          201| 3.845771144278607|\n",
      "|   1198|          200|            4.2075|\n",
      "|   4993|          198| 4.106060606060606|\n",
      "|   1210|          196| 4.137755102040816|\n",
      "|    858|          192|         4.2890625|\n",
      "|    457|          190|3.9921052631578946|\n",
      "|    592|          189|3.4285714285714284|\n",
      "|   5952|          188|4.0212765957446805|\n",
      "|   2028|          188|4.1462765957446805|\n",
      "|   7153|          185| 4.118918918918919|\n",
      "|    588|          183|3.7923497267759565|\n",
      "|    608|          181| 4.116022099447513|\n",
      "|   2762|          179| 3.893854748603352|\n",
      "|    380|          178| 3.497191011235955|\n",
      "|     32|          177| 3.983050847457627|\n",
      "|    364|          172| 3.941860465116279|\n",
      "|   1270|          171| 4.038011695906433|\n",
      "|    377|          171|3.5292397660818713|\n",
      "|   4306|          170|3.8676470588235294|\n",
      "|   3578|          170|3.9382352941176473|\n",
      "|   1580|          165| 3.487878787878788|\n",
      "|    590|          164|3.8353658536585367|\n",
      "|    648|          162| 3.537037037037037|\n",
      "|    344|          161| 3.040372670807453|\n",
      "|   4226|          159| 4.122641509433962|\n",
      "|    367|          157|3.1847133757961785|\n",
      "|   6539|          149| 3.778523489932886|\n",
      "|  58559|          149| 4.238255033557047|\n",
      "|   1214|          146| 3.969178082191781|\n",
      "|    595|          146|3.7705479452054793|\n",
      "|   1036|          145|3.8620689655172415|\n",
      "|    500|          144| 3.388888888888889|\n",
      "|    165|          144|3.5555555555555554|\n",
      "|  79132|          143| 4.066433566433567|\n",
      "|   1265|          143| 3.944055944055944|\n",
      "|   1197|          142| 4.232394366197183|\n",
      "|   1704|          141| 4.078014184397163|\n",
      "|   6377|          141|3.9609929078014185|\n",
      "|   1291|          140| 4.046428571428572|\n",
      "|   2628|          140| 3.107142857142857|\n",
      "|   1721|          140| 3.414285714285714|\n",
      "|    316|          140|             3.375|\n",
      "|   1136|          136| 4.161764705882353|\n",
      "|    597|          135|3.4851851851851854|\n",
      "|    293|          133| 4.018796992481203|\n",
      "|   3793|          133| 3.699248120300752|\n",
      "|   1193|          133| 4.203007518796992|\n",
      "|    231|          133|3.0601503759398496|\n",
      "|     10|          132| 3.496212121212121|\n",
      "|   4886|          132| 3.871212121212121|\n",
      "|   6874|          131|3.9618320610687023|\n",
      "|   7361|          131|4.1603053435114505|\n",
      "|   1089|          131| 4.202290076335878|\n",
      "|   1240|          131|3.8969465648854964|\n",
      "|   1221|          129|  4.25968992248062|\n",
      "|   2329|          129| 4.217054263565892|\n",
      "|     34|          128|        3.65234375|\n",
      "|   1213|          126|              4.25|\n",
      "|   1200|          126|3.9642857142857144|\n",
      "|   8961|          125|             3.836|\n",
      "|   1682|          125|             3.812|\n",
      "|    541|          124| 4.100806451612903|\n",
      "|   4995|          123|               4.0|\n",
      "|    736|          123| 3.321138211382114|\n",
      "|   5349|          122| 3.540983606557377|\n",
      "|   1097|          122|3.7663934426229506|\n",
      "|   2683|          121|3.1983471074380163|\n",
      "|    733|          121|3.6404958677685952|\n",
      "|   2716|          120|             3.775|\n",
      "|   4973|          120| 4.183333333333334|\n",
      "|   1206|          120| 3.995833333333333|\n",
      "|   5445|          120|            3.6375|\n",
      "|   4963|          119|3.8445378151260505|\n",
      "|   1073|          119|3.8739495798319328|\n",
      "|  33794|          116|3.8620689655172415|\n",
      "|   1527|          116|3.7456896551724137|\n",
      "|    587|          115|3.4347826086956523|\n",
      "|   5989|          115|3.9217391304347826|\n",
      "|   1968|          113|3.7787610619469025|\n",
      "|    185|          112|3.0401785714285716|\n",
      "|   5418|          112|3.8169642857142856|\n",
      "|   3147|          111| 4.148648648648648|\n",
      "|   7438|          110| 3.868181818181818|\n",
      "|    349|          110|3.6045454545454545|\n",
      "|   3996|          110|3.8363636363636364|\n",
      "|      2|          110|3.4318181818181817|\n",
      "|   2918|          109|3.8394495412844036|\n",
      "|    924|          109|3.8944954128440368|\n",
      "|    253|          109| 3.458715596330275|\n",
      "|   4878|          109| 3.981651376146789|\n",
      "|   1258|          109|  4.08256880733945|\n",
      "|   2115|          108| 3.638888888888889|\n",
      "|    329|          108|3.3935185185185186|\n",
      "|   1208|          107| 4.219626168224299|\n",
      "|  48516|          107| 4.252336448598131|\n",
      "|   4896|          107|3.7616822429906542|\n",
      "|    539|          106|3.4716981132075473|\n",
      "|   1732|          106|3.9245283018867925|\n",
      "|   1923|          105| 3.676190476190476|\n",
      "|  68954|          105| 4.004761904761905|\n",
      "|     39|          104| 3.293269230769231|\n",
      "|    111|          104| 4.105769230769231|\n",
      "|    223|          104| 3.855769230769231|\n",
      "|  60069|          104|4.0576923076923075|\n",
      "|    161|          103|3.6359223300970873|\n",
      "|    357|          103|3.5194174757281553|\n",
      "|   2706|          103| 3.378640776699029|\n",
      "|    778|          102|  4.03921568627451|\n",
      "|      6|          102| 3.946078431372549|\n",
      "|   1222|          102| 4.098039215686274|\n",
      "|   5816|          102|3.5980392156862746|\n",
      "|    434|          101|3.0346534653465347|\n",
      "|    292|          101|3.4257425742574257|\n",
      "|    454|          101|3.5346534653465347|\n",
      "|    912|          100|              4.24|\n",
      "|   4022|          100|               3.7|\n",
      "|   1517|          100|             3.535|\n",
      "|  44191|          100|             3.885|\n",
      "+-------+-------------+------------------+"
     ]
    }
   ],
   "source": [
    "# perform two aggregates, count, avg, \n",
    "\n",
    "# aggregation of count of number of votes, +\n",
    "# aggregation of avg voting\n",
    "from pyspark.sql.functions import col, desc, avg, count\n",
    "# count, groupBy\n",
    "# a movie, rated by more users, dones't count avg rating\n",
    "# filter, ensure that total_ratings >= 100 users\n",
    "mostPopularDf = ratingDf\\\n",
    "                .groupBy(\"movieId\")\\\n",
    "                .agg(count(\"userId\").alias(\"total_ratings\"), \n",
    "                     avg(\"rating\").alias(\"avg_rating\") )\\\n",
    "                .filter( (col(\"total_ratings\") >= 100) &\n",
    "                         (col(\"avg_rating\") >= 3))\\\n",
    "                .sort(desc(\"total_ratings\"))\n",
    "                \n",
    "mostPopularDf.show(200)"
   ]
  },
  {
   "cell_type": "code",
   "execution_count": 33,
   "id": "25065faa",
   "metadata": {},
   "outputs": [
    {
     "data": {
      "application/vnd.jupyter.widget-view+json": {
       "model_id": "",
       "version_major": 2,
       "version_minor": 0
      },
      "text/plain": [
       "FloatProgress(value=0.0, bar_style='info', description='Progress:', layout=Layout(height='25px', width='50%'),…"
      ]
     },
     "metadata": {},
     "output_type": "display_data"
    },
    {
     "name": "stdout",
     "output_type": "stream",
     "text": [
      "+-------+--------------------+-------------+-----------------+\n",
      "|movieId|               title|total_ratings|       avg_rating|\n",
      "+-------+--------------------+-------------+-----------------+\n",
      "|    356| Forrest Gump (1994)|          329|4.164133738601824|\n",
      "|    318|Shawshank Redempt...|          317|4.429022082018927|\n",
      "|    296| Pulp Fiction (1994)|          307|4.197068403908795|\n",
      "|    593|Silence of the La...|          279|4.161290322580645|\n",
      "|   2571|  Matrix, The (1999)|          278|4.192446043165468|\n",
      "+-------+--------------------+-------------+-----------------+\n",
      "only showing top 5 rows"
     ]
    }
   ],
   "source": [
    "# join mostPopularmovie with movieDf, to get the title of the movie\n",
    "mostPopularMoviesDf = mostPopularDf\\\n",
    "                      .join(movieDf, \n",
    "                            movieDf.movieId == mostPopularDf.movieId)\\\n",
    "                      .select(mostPopularDf.movieId, \"title\", \"total_ratings\", \"avg_rating\")\n",
    "\n",
    "\n",
    "\n",
    "mostPopularMoviesDf.show(5)"
   ]
  },
  {
   "cell_type": "code",
   "execution_count": null,
   "id": "b8df7e86",
   "metadata": {},
   "outputs": [],
   "source": []
  }
 ],
 "metadata": {
  "kernelspec": {
   "display_name": "Sparkmagic (PySpark)",
   "language": "python",
   "name": "pysparkkernel"
  },
  "language_info": {
   "codemirror_mode": {
    "name": "python",
    "version": 3
   },
   "file_extension": ".py",
   "mimetype": "text/x-python",
   "name": "pyspark",
   "pygments_lexer": "python3"
  }
 },
 "nbformat": 4,
 "nbformat_minor": 5
}
