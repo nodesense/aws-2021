{
 "cells": [
  {
   "cell_type": "code",
   "execution_count": 1,
   "id": "4b00c820",
   "metadata": {},
   "outputs": [
    {
     "name": "stdout",
     "output_type": "stream",
     "text": [
      "Starting Spark application\n"
     ]
    },
    {
     "data": {
      "text/html": [
       "<table>\n",
       "<tr><th>ID</th><th>YARN Application ID</th><th>Kind</th><th>State</th><th>Spark UI</th><th>Driver log</th><th>User</th><th>Current session?</th></tr><tr><td>1</td><td>application_1635236588415_0002</td><td>pyspark</td><td>idle</td><td><a target=\"_blank\" href=\"http://ip-172-32-32-53.us-east-2.compute.internal:20888/proxy/application_1635236588415_0002/\">Link</a></td><td><a target=\"_blank\" href=\"http://ip-172-32-35-228.us-east-2.compute.internal:8042/node/containerlogs/container_1635236588415_0002_01_000001/livy\">Link</a></td><td>None</td><td>✔</td></tr></table>"
      ],
      "text/plain": [
       "<IPython.core.display.HTML object>"
      ]
     },
     "metadata": {},
     "output_type": "display_data"
    },
    {
     "data": {
      "application/vnd.jupyter.widget-view+json": {
       "model_id": "",
       "version_major": 2,
       "version_minor": 0
      },
      "text/plain": [
       "FloatProgress(value=0.0, bar_style='info', description='Progress:', layout=Layout(height='25px', width='50%'),…"
      ]
     },
     "metadata": {},
     "output_type": "display_data"
    },
    {
     "name": "stdout",
     "output_type": "stream",
     "text": [
      "SparkSession available as 'spark'.\n"
     ]
    },
    {
     "data": {
      "application/vnd.jupyter.widget-view+json": {
       "model_id": "",
       "version_major": 2,
       "version_minor": 0
      },
      "text/plain": [
       "FloatProgress(value=0.0, bar_style='info', description='Progress:', layout=Layout(height='25px', width='50%'),…"
      ]
     },
     "metadata": {},
     "output_type": "display_data"
    }
   ],
   "source": [
    "products = [ \n",
    "          # (product_id, product_name, brand_id)  \n",
    "         (1, 'iPhone', 100),\n",
    "         (2, 'Galaxy', 200),\n",
    "         (3, 'Redme', 300), # orphan record, no matching brand\n",
    "         (4, 'Pixel', 400),\n",
    "]\n",
    "\n",
    "# spark session. For any spark app, there should be ONLY ONE Spark Contect [sc], there can be many spark session [spark]\n",
    "# DAta Frame - structured data\n",
    "# strcutred data = [Schema ] + data rows \n",
    "productDf = spark.createDataFrame(data=products, schema=[\"product_id\", \"product_name\", \"brand_id\"])"
   ]
  },
  {
   "cell_type": "code",
   "execution_count": 2,
   "id": "cd7fa1ca",
   "metadata": {},
   "outputs": [
    {
     "data": {
      "application/vnd.jupyter.widget-view+json": {
       "model_id": "",
       "version_major": 2,
       "version_minor": 0
      },
      "text/plain": [
       "FloatProgress(value=0.0, bar_style='info', description='Progress:', layout=Layout(height='25px', width='50%'),…"
      ]
     },
     "metadata": {},
     "output_type": "display_data"
    },
    {
     "name": "stdout",
     "output_type": "stream",
     "text": [
      "root\n",
      " |-- product_id: long (nullable = true)\n",
      " |-- product_name: string (nullable = true)\n",
      " |-- brand_id: long (nullable = true)"
     ]
    }
   ],
   "source": [
    "productDf.printSchema()"
   ]
  },
  {
   "cell_type": "code",
   "execution_count": 3,
   "id": "ccace528",
   "metadata": {},
   "outputs": [
    {
     "data": {
      "application/vnd.jupyter.widget-view+json": {
       "model_id": "",
       "version_major": 2,
       "version_minor": 0
      },
      "text/plain": [
       "FloatProgress(value=0.0, bar_style='info', description='Progress:', layout=Layout(height='25px', width='50%'),…"
      ]
     },
     "metadata": {},
     "output_type": "display_data"
    },
    {
     "name": "stdout",
     "output_type": "stream",
     "text": [
      "+----------+------------+--------+\n",
      "|product_id|product_name|brand_id|\n",
      "+----------+------------+--------+\n",
      "|         1|      iPhone|     100|\n",
      "|         2|      Galaxy|     200|\n",
      "|         3|       Redme|     300|\n",
      "|         4|       Pixel|     400|\n",
      "+----------+------------+--------+"
     ]
    }
   ],
   "source": [
    "productDf.show() # display first 20 results"
   ]
  },
  {
   "cell_type": "code",
   "execution_count": 4,
   "id": "b0bd3746",
   "metadata": {},
   "outputs": [
    {
     "data": {
      "application/vnd.jupyter.widget-view+json": {
       "model_id": "",
       "version_major": 2,
       "version_minor": 0
      },
      "text/plain": [
       "FloatProgress(value=0.0, bar_style='info', description='Progress:', layout=Layout(height='25px', width='50%'),…"
      ]
     },
     "metadata": {},
     "output_type": "display_data"
    },
    {
     "name": "stdout",
     "output_type": "stream",
     "text": [
      "[Row(product_id=1, product_name='iPhone', brand_id=100), Row(product_id=2, product_name='Galaxy', brand_id=200), Row(product_id=3, product_name='Redme', brand_id=300), Row(product_id=4, product_name='Pixel', brand_id=400)]"
     ]
    }
   ],
   "source": [
    "# behind any dataframe, there is always RDD, Rows\n",
    "productDf.rdd.collect()"
   ]
  },
  {
   "cell_type": "code",
   "execution_count": 5,
   "id": "e128862f",
   "metadata": {},
   "outputs": [
    {
     "data": {
      "application/vnd.jupyter.widget-view+json": {
       "model_id": "",
       "version_major": 2,
       "version_minor": 0
      },
      "text/plain": [
       "FloatProgress(value=0.0, bar_style='info', description='Progress:', layout=Layout(height='25px', width='50%'),…"
      ]
     },
     "metadata": {},
     "output_type": "display_data"
    }
   ],
   "source": [
    "# when we query/apply any transformation on DataFrame, internally the logics are applied to RDD"
   ]
  },
  {
   "cell_type": "code",
   "execution_count": 11,
   "id": "87fedefb",
   "metadata": {},
   "outputs": [
    {
     "data": {
      "application/vnd.jupyter.widget-view+json": {
       "model_id": "",
       "version_major": 2,
       "version_minor": 0
      },
      "text/plain": [
       "FloatProgress(value=0.0, bar_style='info', description='Progress:', layout=Layout(height='25px', width='50%'),…"
      ]
     },
     "metadata": {},
     "output_type": "display_data"
    },
    {
     "name": "stdout",
     "output_type": "stream",
     "text": [
      "2\n",
      "[[Row(product_id=1, product_name='iPhone', brand_id=100), Row(product_id=2, product_name='Galaxy', brand_id=200)], [Row(product_id=3, product_name='Redme', brand_id=300), Row(product_id=4, product_name='Pixel', brand_id=400)]]\n",
      "+----------+------------+--------+\n",
      "|product_id|product_name|brand_id|\n",
      "+----------+------------+--------+\n",
      "|         1|      iPhone|     100|\n",
      "|         2|      Galaxy|     200|\n",
      "|         3|       Redme|     300|\n",
      "|         4|       Pixel|     400|\n",
      "+----------+------------+--------+"
     ]
    }
   ],
   "source": [
    "\n",
    "print(productDf.rdd.getNumPartitions())\n",
    "print(productDf.rdd.glom().collect())\n",
    "productDf.show()"
   ]
  },
  {
   "cell_type": "code",
   "execution_count": 10,
   "id": "6e62224a",
   "metadata": {},
   "outputs": [
    {
     "data": {
      "application/vnd.jupyter.widget-view+json": {
       "model_id": "",
       "version_major": 2,
       "version_minor": 0
      },
      "text/plain": [
       "FloatProgress(value=0.0, bar_style='info', description='Progress:', layout=Layout(height='25px', width='50%'),…"
      ]
     },
     "metadata": {},
     "output_type": "display_data"
    },
    {
     "name": "stdout",
     "output_type": "stream",
     "text": [
      "root\n",
      " |-- product_name: string (nullable = true)\n",
      " |-- brand_id: long (nullable = true)\n",
      "\n",
      "2\n",
      "[[Row(product_name='iPhone', brand_id=100), Row(product_name='Galaxy', brand_id=200)], [Row(product_name='Redme', brand_id=300), Row(product_name='Pixel', brand_id=400)]]\n",
      "+------------+--------+\n",
      "|product_name|brand_id|\n",
      "+------------+--------+\n",
      "|      iPhone|     100|\n",
      "|      Galaxy|     200|\n",
      "|       Redme|     300|\n",
      "|       Pixel|     400|\n",
      "+------------+--------+"
     ]
    }
   ],
   "source": [
    "# select query, product_name, brand_id\n",
    "# select statement, returns a new dataframe, without modifying the productDf\n",
    "# producDf, in general, DAtaFrame, is immutable - cannot be changed, READ only, constant\n",
    "# in SPARK, we cannot change the original data once it is loaded into memory\n",
    "# return new dataframe, that has its own rdd, has its own partition, its own SCHEMA, rows\n",
    "productNameDf = productDf.select('product_name', 'brand_id')\n",
    "productNameDf.printSchema()\n",
    "print(productNameDf.rdd.getNumPartitions())\n",
    "print(productNameDf.rdd.glom().collect())\n",
    "productNameDf.show()"
   ]
  },
  {
   "cell_type": "code",
   "execution_count": 12,
   "id": "cf7da591",
   "metadata": {},
   "outputs": [
    {
     "data": {
      "application/vnd.jupyter.widget-view+json": {
       "model_id": "",
       "version_major": 2,
       "version_minor": 0
      },
      "text/plain": [
       "FloatProgress(value=0.0, bar_style='info', description='Progress:', layout=Layout(height='25px', width='50%'),…"
      ]
     },
     "metadata": {},
     "output_type": "display_data"
    },
    {
     "name": "stdout",
     "output_type": "stream",
     "text": [
      "+----------+------------+--------+\n",
      "|product_id|product_name|brand_id|\n",
      "+----------+------------+--------+\n",
      "|         3|       Redme|     300|\n",
      "|         4|       Pixel|     400|\n",
      "+----------+------------+--------+"
     ]
    }
   ],
   "source": [
    "# where, filter [both are same, alias]\n",
    "# return new data frame\n",
    "# python syntax in where/filter\n",
    "filterDf = productDf.where (productDf.brand_id >= 300)\n",
    "filterDf.show()\n",
    "\n"
   ]
  },
  {
   "cell_type": "code",
   "execution_count": 14,
   "id": "8c079ef0",
   "metadata": {},
   "outputs": [
    {
     "data": {
      "application/vnd.jupyter.widget-view+json": {
       "model_id": "",
       "version_major": 2,
       "version_minor": 0
      },
      "text/plain": [
       "FloatProgress(value=0.0, bar_style='info', description='Progress:', layout=Layout(height='25px', width='50%'),…"
      ]
     },
     "metadata": {},
     "output_type": "display_data"
    },
    {
     "name": "stdout",
     "output_type": "stream",
     "text": [
      "+----------+------------+--------+\n",
      "|product_id|product_name|brand_id|\n",
      "+----------+------------+--------+\n",
      "|         3|       Redme|     300|\n",
      "|         4|       Pixel|     400|\n",
      "+----------+------------+--------+"
     ]
    }
   ],
   "source": [
    "# where with SQL Statement \n",
    "filterDf = productDf.where (\"brand_id  >= 300\")\n",
    "filterDf.show()\n",
    "\n",
    "# performance wise SQL and python syntax all same"
   ]
  },
  {
   "cell_type": "code",
   "execution_count": null,
   "id": "4c8d208d",
   "metadata": {},
   "outputs": [],
   "source": []
  }
 ],
 "metadata": {
  "kernelspec": {
   "display_name": "Sparkmagic (PySpark)",
   "language": "python",
   "name": "pysparkkernel"
  },
  "language_info": {
   "codemirror_mode": {
    "name": "python",
    "version": 3
   },
   "file_extension": ".py",
   "mimetype": "text/x-python",
   "name": "pyspark",
   "pygments_lexer": "python3"
  }
 },
 "nbformat": 4,
 "nbformat_minor": 5
}
