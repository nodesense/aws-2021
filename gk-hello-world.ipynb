{
 "cells": [
  {
   "cell_type": "code",
   "execution_count": 1,
   "id": "d41b306c",
   "metadata": {},
   "outputs": [
    {
     "name": "stdout",
     "output_type": "stream",
     "text": [
      "Starting Spark application\n"
     ]
    },
    {
     "data": {
      "text/html": [
       "<table>\n",
       "<tr><th>ID</th><th>YARN Application ID</th><th>Kind</th><th>State</th><th>Spark UI</th><th>Driver log</th><th>User</th><th>Current session?</th></tr><tr><td>3</td><td>application_1635142475032_0004</td><td>pyspark</td><td>idle</td><td><a target=\"_blank\" href=\"http://ip-172-31-20-67.us-east-2.compute.internal:20888/proxy/application_1635142475032_0004/\">Link</a></td><td><a target=\"_blank\" href=\"http://ip-172-31-23-69.us-east-2.compute.internal:8042/node/containerlogs/container_1635142475032_0004_01_000001/livy\">Link</a></td><td>None</td><td>✔</td></tr></table>"
      ],
      "text/plain": [
       "<IPython.core.display.HTML object>"
      ]
     },
     "metadata": {},
     "output_type": "display_data"
    },
    {
     "data": {
      "application/vnd.jupyter.widget-view+json": {
       "model_id": "",
       "version_major": 2,
       "version_minor": 0
      },
      "text/plain": [
       "FloatProgress(value=0.0, bar_style='info', description='Progress:', layout=Layout(height='25px', width='50%'),…"
      ]
     },
     "metadata": {},
     "output_type": "display_data"
    },
    {
     "name": "stdout",
     "output_type": "stream",
     "text": [
      "SparkSession available as 'spark'.\n"
     ]
    },
    {
     "data": {
      "application/vnd.jupyter.widget-view+json": {
       "model_id": "",
       "version_major": 2,
       "version_minor": 0
      },
      "text/plain": [
       "FloatProgress(value=0.0, bar_style='info', description='Progress:', layout=Layout(height='25px', width='50%'),…"
      ]
     },
     "metadata": {},
     "output_type": "display_data"
    },
    {
     "name": "stdout",
     "output_type": "stream",
     "text": [
      "Hello world"
     ]
    }
   ],
   "source": [
    "# here you write python code\n",
    "# to run the code, either click Run button or SHIFT + Enter button\n",
    "print(\"Hello world\")"
   ]
  },
  {
   "cell_type": "code",
   "execution_count": 2,
   "id": "b865b6f7",
   "metadata": {},
   "outputs": [
    {
     "data": {
      "application/vnd.jupyter.widget-view+json": {
       "model_id": "",
       "version_major": 2,
       "version_minor": 0
      },
      "text/plain": [
       "FloatProgress(value=0.0, bar_style='info', description='Progress:', layout=Layout(height='25px', width='50%'),…"
      ]
     },
     "metadata": {},
     "output_type": "display_data"
    },
    {
     "name": "stdout",
     "output_type": "stream",
     "text": [
      "<SparkContext master=yarn appName=livy-session-3>"
     ]
    }
   ],
   "source": [
    "# spark context (sc) - RDD, DAG, TAsk, Running Tasks\n",
    "sc"
   ]
  },
  {
   "cell_type": "code",
   "execution_count": 9,
   "id": "bcba51b8",
   "metadata": {},
   "outputs": [
    {
     "data": {
      "application/vnd.jupyter.widget-view+json": {
       "model_id": "",
       "version_major": 2,
       "version_minor": 0
      },
      "text/plain": [
       "FloatProgress(value=0.0, bar_style='info', description='Progress:', layout=Layout(height='25px', width='50%'),…"
      ]
     },
     "metadata": {},
     "output_type": "display_data"
    },
    {
     "name": "stdout",
     "output_type": "stream",
     "text": [
      "('partitions', 2)\n",
      "('partition data ', [[1, 2, 3, 4, 5], [6, 7, 8, 9, 10]])"
     ]
    }
   ],
   "source": [
    "# Create RDD\n",
    "# load data (1 to 10) into spark RDD\n",
    "rdd = sc.parallelize ([1,2,3,4,5,6,7,8,9,10])\n",
    "# get the parititons for the RDD\n",
    "print(\"partitions\", rdd.getNumPartitions())\n",
    "# glom - action function, execute job in cluster\n",
    "print(\"partition data \", rdd.glom().collect())"
   ]
  },
  {
   "cell_type": "code",
   "execution_count": 10,
   "id": "7734ee3f",
   "metadata": {},
   "outputs": [
    {
     "data": {
      "application/vnd.jupyter.widget-view+json": {
       "model_id": "",
       "version_major": 2,
       "version_minor": 0
      },
      "text/plain": [
       "FloatProgress(value=0.0, bar_style='info', description='Progress:', layout=Layout(height='25px', width='50%'),…"
      ]
     },
     "metadata": {},
     "output_type": "display_data"
    },
    {
     "name": "stdout",
     "output_type": "stream",
     "text": [
      "('partitions', 2)\n",
      "('partition data ', [[1, 3, 5], [7, 9]])"
     ]
    }
   ],
   "source": [
    "# transformation\n",
    "# a set of functions, useful to create RDD, while inheriting from parent rdd [Lineage]\n",
    "# lazy functions - these are not executed immeidatly as seen in the code , but executed while apply action functions\n",
    "# tranformation - filter, odd numbers\n",
    "# this lambda is not called immediately, until we apply action\n",
    "oddRdd = rdd.filter(lambda n: n % 2 == 1)\n",
    "# get the parititons for the RDD\n",
    "print(\"partitions\", oddRdd.getNumPartitions())\n",
    "# glom - action function, execute job in cluster\n",
    "print(\"partition data \", oddRdd.glom().collect())"
   ]
  },
  {
   "cell_type": "code",
   "execution_count": 5,
   "id": "208099e7",
   "metadata": {},
   "outputs": [
    {
     "data": {
      "application/vnd.jupyter.widget-view+json": {
       "model_id": "",
       "version_major": 2,
       "version_minor": 0
      },
      "text/plain": [
       "FloatProgress(value=0.0, bar_style='info', description='Progress:', layout=Layout(height='25px', width='50%'),…"
      ]
     },
     "metadata": {},
     "output_type": "display_data"
    },
    {
     "name": "stdout",
     "output_type": "stream",
     "text": [
      "[1, 3, 5, 7, 9]"
     ]
    }
   ],
   "source": [
    "# action - a set of functions which can trigger a job, that execute the code flow on the cluster of workers\n",
    "# action - trigger parellel executions\n",
    "# every action is one job\n",
    "# job is split into stages\n",
    "# a stage shall have set of tasks\n",
    "# taskes are executed with in worker on given partitions\n",
    "# all the above happen when we execute an action function\n",
    "# collect func - it execute all the operations/transformation, collect result back to driver\n",
    "oddNumbers = oddRdd.collect()\n",
    "print(oddNumbers)"
   ]
  },
  {
   "cell_type": "code",
   "execution_count": null,
   "id": "f00c72c3",
   "metadata": {},
   "outputs": [],
   "source": []
  }
 ],
 "metadata": {
  "kernelspec": {
   "display_name": "Sparkmagic (PySpark)",
   "language": "python",
   "name": "pysparkkernel"
  },
  "language_info": {
   "codemirror_mode": {
    "name": "python",
    "version": 3
   },
   "file_extension": ".py",
   "mimetype": "text/x-python",
   "name": "pyspark",
   "pygments_lexer": "python3"
  }
 },
 "nbformat": 4,
 "nbformat_minor": 5
}
